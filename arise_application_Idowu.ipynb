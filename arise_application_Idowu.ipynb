{
  "cells": [
    {
      "cell_type": "markdown",
      "metadata": {
        "id": "view-in-github",
        "colab_type": "text"
      },
      "source": [
        "<a href=\"https://colab.research.google.com/github/Lucrecia14/Arise_application/blob/main/arise_application_Idowu.ipynb\" target=\"_parent\"><img src=\"https://colab.research.google.com/assets/colab-badge.svg\" alt=\"Open In Colab\"/></a>"
      ]
    },
    {
      "cell_type": "markdown",
      "metadata": {
        "id": "iCIaydSRmEtF"
      },
      "source": [
        "# Arise Application Challenge\n",
        "---"
      ]
    },
    {
      "cell_type": "markdown",
      "metadata": {
        "id": "03VFqvLnmEtU"
      },
      "source": [
        "Please answer the questions shown below by completing the code within this notebook and filling in your final answers in the respective block of the arise Challenge Answers form. "
      ]
    },
    {
      "cell_type": "markdown",
      "metadata": {
        "id": "OmfnotLHmEtX"
      },
      "source": [
        "---"
      ]
    },
    {
      "cell_type": "markdown",
      "metadata": {
        "id": "ZZ6WF0OcmEta"
      },
      "source": [
        "### Step 1 (this step does not have an answer in the answer form)"
      ]
    },
    {
      "cell_type": "markdown",
      "metadata": {
        "id": "fNyYdcj-mEtb"
      },
      "source": [
        "Please import the Pandas package. You will need to install the package if you do not already have them (`hint - google anaconda install pandas`)."
      ]
    },
    {
      "cell_type": "code",
      "execution_count": null,
      "metadata": {
        "id": "NYsoVq5EmEtd"
      },
      "outputs": [],
      "source": [
        "import pandas as pd\n",
        "import numpy as np"
      ]
    },
    {
      "cell_type": "markdown",
      "metadata": {
        "id": "LmRW9ATzmEtj"
      },
      "source": [
        "---"
      ]
    },
    {
      "cell_type": "markdown",
      "metadata": {
        "id": "Opm0LqG1mEto"
      },
      "source": [
        "### Step 2 (this step does not have an answer in the answer form)"
      ]
    },
    {
      "cell_type": "markdown",
      "metadata": {
        "id": "-EitXApXmEtq"
      },
      "source": [
        "Use Pandas to read in the csv titled `application_data.csv` as a Panda's dataframe. Once you have read in the data as a dataframe use Panda's `head()` function to show an overview of the data."
      ]
    },
    {
      "cell_type": "code",
      "execution_count": null,
      "metadata": {
        "colab": {
          "base_uri": "https://localhost:8080/",
          "height": 488
        },
        "id": "KISE_cIsmEtt",
        "outputId": "046fcd0a-0360-45a2-9d95-09a65fe47ac6"
      },
      "outputs": [
        {
          "output_type": "execute_result",
          "data": {
            "text/plain": [
              "    customerID        loanId appilcationDate  LoanNumber  LoanAmount  \\\n",
              "0    839247458  302953235622      2018-12-21           1      7500.0   \n",
              "1    217540860  302960101337      2018-12-23           1      7500.0   \n",
              "2    522238092  303016988846      2019-01-08           1      7500.0   \n",
              "3    096754469  302999605504      2019-01-04           1      7500.0   \n",
              "4    410354345  302951945878      2018-12-21           1      7500.0   \n",
              "..         ...           ...             ...         ...         ...   \n",
              "995  964510149     302636726      2018-01-15           2      7500.0   \n",
              "996  251997198     302772445      2018-02-13           1      7500.0   \n",
              "997  899011279     302585439      2018-01-03           3      7500.0   \n",
              "998  648637210  302788322114      2018-11-19           1      7500.0   \n",
              "999  464788691     302683579      2018-01-24           1      7500.0   \n",
              "\n",
              "     InterestRate  TermDays repaymentDueDate repaymentPaidDate  \n",
              "0            30.0        30       2019-01-20        2019-01-16  \n",
              "1            30.0        30       2019-01-22        2018-12-29  \n",
              "2            30.0        30       2019-02-07        2019-01-08  \n",
              "3            30.0        30       2019-02-03        2019-01-08  \n",
              "4            30.0        30       2019-01-20        2019-01-17  \n",
              "..            ...       ...              ...               ...  \n",
              "995          30.0        30       2018-02-14        2018-01-20  \n",
              "996          30.0        30       2018-03-15        2018-03-14  \n",
              "997          30.0        30       2018-02-02        2018-10-12  \n",
              "998          30.0        30       2018-12-19        2018-12-17  \n",
              "999          30.0        30       2018-02-24        2018-02-11  \n",
              "\n",
              "[1000 rows x 9 columns]"
            ],
            "text/html": [
              "\n",
              "  <div id=\"df-f1533301-a3ec-4f35-8b25-307f7d4bb4c0\">\n",
              "    <div class=\"colab-df-container\">\n",
              "      <div>\n",
              "<style scoped>\n",
              "    .dataframe tbody tr th:only-of-type {\n",
              "        vertical-align: middle;\n",
              "    }\n",
              "\n",
              "    .dataframe tbody tr th {\n",
              "        vertical-align: top;\n",
              "    }\n",
              "\n",
              "    .dataframe thead th {\n",
              "        text-align: right;\n",
              "    }\n",
              "</style>\n",
              "<table border=\"1\" class=\"dataframe\">\n",
              "  <thead>\n",
              "    <tr style=\"text-align: right;\">\n",
              "      <th></th>\n",
              "      <th>customerID</th>\n",
              "      <th>loanId</th>\n",
              "      <th>appilcationDate</th>\n",
              "      <th>LoanNumber</th>\n",
              "      <th>LoanAmount</th>\n",
              "      <th>InterestRate</th>\n",
              "      <th>TermDays</th>\n",
              "      <th>repaymentDueDate</th>\n",
              "      <th>repaymentPaidDate</th>\n",
              "    </tr>\n",
              "  </thead>\n",
              "  <tbody>\n",
              "    <tr>\n",
              "      <th>0</th>\n",
              "      <td>839247458</td>\n",
              "      <td>302953235622</td>\n",
              "      <td>2018-12-21</td>\n",
              "      <td>1</td>\n",
              "      <td>7500.0</td>\n",
              "      <td>30.0</td>\n",
              "      <td>30</td>\n",
              "      <td>2019-01-20</td>\n",
              "      <td>2019-01-16</td>\n",
              "    </tr>\n",
              "    <tr>\n",
              "      <th>1</th>\n",
              "      <td>217540860</td>\n",
              "      <td>302960101337</td>\n",
              "      <td>2018-12-23</td>\n",
              "      <td>1</td>\n",
              "      <td>7500.0</td>\n",
              "      <td>30.0</td>\n",
              "      <td>30</td>\n",
              "      <td>2019-01-22</td>\n",
              "      <td>2018-12-29</td>\n",
              "    </tr>\n",
              "    <tr>\n",
              "      <th>2</th>\n",
              "      <td>522238092</td>\n",
              "      <td>303016988846</td>\n",
              "      <td>2019-01-08</td>\n",
              "      <td>1</td>\n",
              "      <td>7500.0</td>\n",
              "      <td>30.0</td>\n",
              "      <td>30</td>\n",
              "      <td>2019-02-07</td>\n",
              "      <td>2019-01-08</td>\n",
              "    </tr>\n",
              "    <tr>\n",
              "      <th>3</th>\n",
              "      <td>096754469</td>\n",
              "      <td>302999605504</td>\n",
              "      <td>2019-01-04</td>\n",
              "      <td>1</td>\n",
              "      <td>7500.0</td>\n",
              "      <td>30.0</td>\n",
              "      <td>30</td>\n",
              "      <td>2019-02-03</td>\n",
              "      <td>2019-01-08</td>\n",
              "    </tr>\n",
              "    <tr>\n",
              "      <th>4</th>\n",
              "      <td>410354345</td>\n",
              "      <td>302951945878</td>\n",
              "      <td>2018-12-21</td>\n",
              "      <td>1</td>\n",
              "      <td>7500.0</td>\n",
              "      <td>30.0</td>\n",
              "      <td>30</td>\n",
              "      <td>2019-01-20</td>\n",
              "      <td>2019-01-17</td>\n",
              "    </tr>\n",
              "    <tr>\n",
              "      <th>...</th>\n",
              "      <td>...</td>\n",
              "      <td>...</td>\n",
              "      <td>...</td>\n",
              "      <td>...</td>\n",
              "      <td>...</td>\n",
              "      <td>...</td>\n",
              "      <td>...</td>\n",
              "      <td>...</td>\n",
              "      <td>...</td>\n",
              "    </tr>\n",
              "    <tr>\n",
              "      <th>995</th>\n",
              "      <td>964510149</td>\n",
              "      <td>302636726</td>\n",
              "      <td>2018-01-15</td>\n",
              "      <td>2</td>\n",
              "      <td>7500.0</td>\n",
              "      <td>30.0</td>\n",
              "      <td>30</td>\n",
              "      <td>2018-02-14</td>\n",
              "      <td>2018-01-20</td>\n",
              "    </tr>\n",
              "    <tr>\n",
              "      <th>996</th>\n",
              "      <td>251997198</td>\n",
              "      <td>302772445</td>\n",
              "      <td>2018-02-13</td>\n",
              "      <td>1</td>\n",
              "      <td>7500.0</td>\n",
              "      <td>30.0</td>\n",
              "      <td>30</td>\n",
              "      <td>2018-03-15</td>\n",
              "      <td>2018-03-14</td>\n",
              "    </tr>\n",
              "    <tr>\n",
              "      <th>997</th>\n",
              "      <td>899011279</td>\n",
              "      <td>302585439</td>\n",
              "      <td>2018-01-03</td>\n",
              "      <td>3</td>\n",
              "      <td>7500.0</td>\n",
              "      <td>30.0</td>\n",
              "      <td>30</td>\n",
              "      <td>2018-02-02</td>\n",
              "      <td>2018-10-12</td>\n",
              "    </tr>\n",
              "    <tr>\n",
              "      <th>998</th>\n",
              "      <td>648637210</td>\n",
              "      <td>302788322114</td>\n",
              "      <td>2018-11-19</td>\n",
              "      <td>1</td>\n",
              "      <td>7500.0</td>\n",
              "      <td>30.0</td>\n",
              "      <td>30</td>\n",
              "      <td>2018-12-19</td>\n",
              "      <td>2018-12-17</td>\n",
              "    </tr>\n",
              "    <tr>\n",
              "      <th>999</th>\n",
              "      <td>464788691</td>\n",
              "      <td>302683579</td>\n",
              "      <td>2018-01-24</td>\n",
              "      <td>1</td>\n",
              "      <td>7500.0</td>\n",
              "      <td>30.0</td>\n",
              "      <td>30</td>\n",
              "      <td>2018-02-24</td>\n",
              "      <td>2018-02-11</td>\n",
              "    </tr>\n",
              "  </tbody>\n",
              "</table>\n",
              "<p>1000 rows × 9 columns</p>\n",
              "</div>\n",
              "      <button class=\"colab-df-convert\" onclick=\"convertToInteractive('df-f1533301-a3ec-4f35-8b25-307f7d4bb4c0')\"\n",
              "              title=\"Convert this dataframe to an interactive table.\"\n",
              "              style=\"display:none;\">\n",
              "        \n",
              "  <svg xmlns=\"http://www.w3.org/2000/svg\" height=\"24px\"viewBox=\"0 0 24 24\"\n",
              "       width=\"24px\">\n",
              "    <path d=\"M0 0h24v24H0V0z\" fill=\"none\"/>\n",
              "    <path d=\"M18.56 5.44l.94 2.06.94-2.06 2.06-.94-2.06-.94-.94-2.06-.94 2.06-2.06.94zm-11 1L8.5 8.5l.94-2.06 2.06-.94-2.06-.94L8.5 2.5l-.94 2.06-2.06.94zm10 10l.94 2.06.94-2.06 2.06-.94-2.06-.94-.94-2.06-.94 2.06-2.06.94z\"/><path d=\"M17.41 7.96l-1.37-1.37c-.4-.4-.92-.59-1.43-.59-.52 0-1.04.2-1.43.59L10.3 9.45l-7.72 7.72c-.78.78-.78 2.05 0 2.83L4 21.41c.39.39.9.59 1.41.59.51 0 1.02-.2 1.41-.59l7.78-7.78 2.81-2.81c.8-.78.8-2.07 0-2.86zM5.41 20L4 18.59l7.72-7.72 1.47 1.35L5.41 20z\"/>\n",
              "  </svg>\n",
              "      </button>\n",
              "      \n",
              "  <style>\n",
              "    .colab-df-container {\n",
              "      display:flex;\n",
              "      flex-wrap:wrap;\n",
              "      gap: 12px;\n",
              "    }\n",
              "\n",
              "    .colab-df-convert {\n",
              "      background-color: #E8F0FE;\n",
              "      border: none;\n",
              "      border-radius: 50%;\n",
              "      cursor: pointer;\n",
              "      display: none;\n",
              "      fill: #1967D2;\n",
              "      height: 32px;\n",
              "      padding: 0 0 0 0;\n",
              "      width: 32px;\n",
              "    }\n",
              "\n",
              "    .colab-df-convert:hover {\n",
              "      background-color: #E2EBFA;\n",
              "      box-shadow: 0px 1px 2px rgba(60, 64, 67, 0.3), 0px 1px 3px 1px rgba(60, 64, 67, 0.15);\n",
              "      fill: #174EA6;\n",
              "    }\n",
              "\n",
              "    [theme=dark] .colab-df-convert {\n",
              "      background-color: #3B4455;\n",
              "      fill: #D2E3FC;\n",
              "    }\n",
              "\n",
              "    [theme=dark] .colab-df-convert:hover {\n",
              "      background-color: #434B5C;\n",
              "      box-shadow: 0px 1px 3px 1px rgba(0, 0, 0, 0.15);\n",
              "      filter: drop-shadow(0px 1px 2px rgba(0, 0, 0, 0.3));\n",
              "      fill: #FFFFFF;\n",
              "    }\n",
              "  </style>\n",
              "\n",
              "      <script>\n",
              "        const buttonEl =\n",
              "          document.querySelector('#df-f1533301-a3ec-4f35-8b25-307f7d4bb4c0 button.colab-df-convert');\n",
              "        buttonEl.style.display =\n",
              "          google.colab.kernel.accessAllowed ? 'block' : 'none';\n",
              "\n",
              "        async function convertToInteractive(key) {\n",
              "          const element = document.querySelector('#df-f1533301-a3ec-4f35-8b25-307f7d4bb4c0');\n",
              "          const dataTable =\n",
              "            await google.colab.kernel.invokeFunction('convertToInteractive',\n",
              "                                                     [key], {});\n",
              "          if (!dataTable) return;\n",
              "\n",
              "          const docLinkHtml = 'Like what you see? Visit the ' +\n",
              "            '<a target=\"_blank\" href=https://colab.research.google.com/notebooks/data_table.ipynb>data table notebook</a>'\n",
              "            + ' to learn more about interactive tables.';\n",
              "          element.innerHTML = '';\n",
              "          dataTable['output_type'] = 'display_data';\n",
              "          await google.colab.output.renderOutput(dataTable, element);\n",
              "          const docLink = document.createElement('div');\n",
              "          docLink.innerHTML = docLinkHtml;\n",
              "          element.appendChild(docLink);\n",
              "        }\n",
              "      </script>\n",
              "    </div>\n",
              "  </div>\n",
              "  "
            ]
          },
          "metadata": {},
          "execution_count": 3
        }
      ],
      "source": [
        "df = pd.read_csv('application_data.csv')\n",
        "df"
      ]
    },
    {
      "cell_type": "code",
      "execution_count": null,
      "metadata": {
        "colab": {
          "base_uri": "https://localhost:8080/",
          "height": 270
        },
        "id": "r-YVHn28mEty",
        "outputId": "0b1d8764-8222-40b0-f486-cea320bd2ecf"
      },
      "outputs": [
        {
          "output_type": "execute_result",
          "data": {
            "text/plain": [
              "  customerID        loanId appilcationDate  LoanNumber  LoanAmount  \\\n",
              "0  839247458  302953235622      2018-12-21           1      7500.0   \n",
              "1  217540860  302960101337      2018-12-23           1      7500.0   \n",
              "2  522238092  303016988846      2019-01-08           1      7500.0   \n",
              "3  096754469  302999605504      2019-01-04           1      7500.0   \n",
              "4  410354345  302951945878      2018-12-21           1      7500.0   \n",
              "\n",
              "   InterestRate  TermDays repaymentDueDate repaymentPaidDate  \n",
              "0          30.0        30       2019-01-20        2019-01-16  \n",
              "1          30.0        30       2019-01-22        2018-12-29  \n",
              "2          30.0        30       2019-02-07        2019-01-08  \n",
              "3          30.0        30       2019-02-03        2019-01-08  \n",
              "4          30.0        30       2019-01-20        2019-01-17  "
            ],
            "text/html": [
              "\n",
              "  <div id=\"df-ac37ca1c-b403-41b2-848b-4c9d0dea820a\">\n",
              "    <div class=\"colab-df-container\">\n",
              "      <div>\n",
              "<style scoped>\n",
              "    .dataframe tbody tr th:only-of-type {\n",
              "        vertical-align: middle;\n",
              "    }\n",
              "\n",
              "    .dataframe tbody tr th {\n",
              "        vertical-align: top;\n",
              "    }\n",
              "\n",
              "    .dataframe thead th {\n",
              "        text-align: right;\n",
              "    }\n",
              "</style>\n",
              "<table border=\"1\" class=\"dataframe\">\n",
              "  <thead>\n",
              "    <tr style=\"text-align: right;\">\n",
              "      <th></th>\n",
              "      <th>customerID</th>\n",
              "      <th>loanId</th>\n",
              "      <th>appilcationDate</th>\n",
              "      <th>LoanNumber</th>\n",
              "      <th>LoanAmount</th>\n",
              "      <th>InterestRate</th>\n",
              "      <th>TermDays</th>\n",
              "      <th>repaymentDueDate</th>\n",
              "      <th>repaymentPaidDate</th>\n",
              "    </tr>\n",
              "  </thead>\n",
              "  <tbody>\n",
              "    <tr>\n",
              "      <th>0</th>\n",
              "      <td>839247458</td>\n",
              "      <td>302953235622</td>\n",
              "      <td>2018-12-21</td>\n",
              "      <td>1</td>\n",
              "      <td>7500.0</td>\n",
              "      <td>30.0</td>\n",
              "      <td>30</td>\n",
              "      <td>2019-01-20</td>\n",
              "      <td>2019-01-16</td>\n",
              "    </tr>\n",
              "    <tr>\n",
              "      <th>1</th>\n",
              "      <td>217540860</td>\n",
              "      <td>302960101337</td>\n",
              "      <td>2018-12-23</td>\n",
              "      <td>1</td>\n",
              "      <td>7500.0</td>\n",
              "      <td>30.0</td>\n",
              "      <td>30</td>\n",
              "      <td>2019-01-22</td>\n",
              "      <td>2018-12-29</td>\n",
              "    </tr>\n",
              "    <tr>\n",
              "      <th>2</th>\n",
              "      <td>522238092</td>\n",
              "      <td>303016988846</td>\n",
              "      <td>2019-01-08</td>\n",
              "      <td>1</td>\n",
              "      <td>7500.0</td>\n",
              "      <td>30.0</td>\n",
              "      <td>30</td>\n",
              "      <td>2019-02-07</td>\n",
              "      <td>2019-01-08</td>\n",
              "    </tr>\n",
              "    <tr>\n",
              "      <th>3</th>\n",
              "      <td>096754469</td>\n",
              "      <td>302999605504</td>\n",
              "      <td>2019-01-04</td>\n",
              "      <td>1</td>\n",
              "      <td>7500.0</td>\n",
              "      <td>30.0</td>\n",
              "      <td>30</td>\n",
              "      <td>2019-02-03</td>\n",
              "      <td>2019-01-08</td>\n",
              "    </tr>\n",
              "    <tr>\n",
              "      <th>4</th>\n",
              "      <td>410354345</td>\n",
              "      <td>302951945878</td>\n",
              "      <td>2018-12-21</td>\n",
              "      <td>1</td>\n",
              "      <td>7500.0</td>\n",
              "      <td>30.0</td>\n",
              "      <td>30</td>\n",
              "      <td>2019-01-20</td>\n",
              "      <td>2019-01-17</td>\n",
              "    </tr>\n",
              "  </tbody>\n",
              "</table>\n",
              "</div>\n",
              "      <button class=\"colab-df-convert\" onclick=\"convertToInteractive('df-ac37ca1c-b403-41b2-848b-4c9d0dea820a')\"\n",
              "              title=\"Convert this dataframe to an interactive table.\"\n",
              "              style=\"display:none;\">\n",
              "        \n",
              "  <svg xmlns=\"http://www.w3.org/2000/svg\" height=\"24px\"viewBox=\"0 0 24 24\"\n",
              "       width=\"24px\">\n",
              "    <path d=\"M0 0h24v24H0V0z\" fill=\"none\"/>\n",
              "    <path d=\"M18.56 5.44l.94 2.06.94-2.06 2.06-.94-2.06-.94-.94-2.06-.94 2.06-2.06.94zm-11 1L8.5 8.5l.94-2.06 2.06-.94-2.06-.94L8.5 2.5l-.94 2.06-2.06.94zm10 10l.94 2.06.94-2.06 2.06-.94-2.06-.94-.94-2.06-.94 2.06-2.06.94z\"/><path d=\"M17.41 7.96l-1.37-1.37c-.4-.4-.92-.59-1.43-.59-.52 0-1.04.2-1.43.59L10.3 9.45l-7.72 7.72c-.78.78-.78 2.05 0 2.83L4 21.41c.39.39.9.59 1.41.59.51 0 1.02-.2 1.41-.59l7.78-7.78 2.81-2.81c.8-.78.8-2.07 0-2.86zM5.41 20L4 18.59l7.72-7.72 1.47 1.35L5.41 20z\"/>\n",
              "  </svg>\n",
              "      </button>\n",
              "      \n",
              "  <style>\n",
              "    .colab-df-container {\n",
              "      display:flex;\n",
              "      flex-wrap:wrap;\n",
              "      gap: 12px;\n",
              "    }\n",
              "\n",
              "    .colab-df-convert {\n",
              "      background-color: #E8F0FE;\n",
              "      border: none;\n",
              "      border-radius: 50%;\n",
              "      cursor: pointer;\n",
              "      display: none;\n",
              "      fill: #1967D2;\n",
              "      height: 32px;\n",
              "      padding: 0 0 0 0;\n",
              "      width: 32px;\n",
              "    }\n",
              "\n",
              "    .colab-df-convert:hover {\n",
              "      background-color: #E2EBFA;\n",
              "      box-shadow: 0px 1px 2px rgba(60, 64, 67, 0.3), 0px 1px 3px 1px rgba(60, 64, 67, 0.15);\n",
              "      fill: #174EA6;\n",
              "    }\n",
              "\n",
              "    [theme=dark] .colab-df-convert {\n",
              "      background-color: #3B4455;\n",
              "      fill: #D2E3FC;\n",
              "    }\n",
              "\n",
              "    [theme=dark] .colab-df-convert:hover {\n",
              "      background-color: #434B5C;\n",
              "      box-shadow: 0px 1px 3px 1px rgba(0, 0, 0, 0.15);\n",
              "      filter: drop-shadow(0px 1px 2px rgba(0, 0, 0, 0.3));\n",
              "      fill: #FFFFFF;\n",
              "    }\n",
              "  </style>\n",
              "\n",
              "      <script>\n",
              "        const buttonEl =\n",
              "          document.querySelector('#df-ac37ca1c-b403-41b2-848b-4c9d0dea820a button.colab-df-convert');\n",
              "        buttonEl.style.display =\n",
              "          google.colab.kernel.accessAllowed ? 'block' : 'none';\n",
              "\n",
              "        async function convertToInteractive(key) {\n",
              "          const element = document.querySelector('#df-ac37ca1c-b403-41b2-848b-4c9d0dea820a');\n",
              "          const dataTable =\n",
              "            await google.colab.kernel.invokeFunction('convertToInteractive',\n",
              "                                                     [key], {});\n",
              "          if (!dataTable) return;\n",
              "\n",
              "          const docLinkHtml = 'Like what you see? Visit the ' +\n",
              "            '<a target=\"_blank\" href=https://colab.research.google.com/notebooks/data_table.ipynb>data table notebook</a>'\n",
              "            + ' to learn more about interactive tables.';\n",
              "          element.innerHTML = '';\n",
              "          dataTable['output_type'] = 'display_data';\n",
              "          await google.colab.output.renderOutput(dataTable, element);\n",
              "          const docLink = document.createElement('div');\n",
              "          docLink.innerHTML = docLinkHtml;\n",
              "          element.appendChild(docLink);\n",
              "        }\n",
              "      </script>\n",
              "    </div>\n",
              "  </div>\n",
              "  "
            ]
          },
          "metadata": {},
          "execution_count": 4
        }
      ],
      "source": [
        "df.head()"
      ]
    },
    {
      "cell_type": "markdown",
      "metadata": {
        "id": "-u_kdfHOmEtz"
      },
      "source": [
        "You should now be able to see that the dataset contains information relating to loans that have been disbursed. Each row of the data is specific to a particular loan and displays the customer's ID that took out the loan, a unique loan ID, the date when the client applied for the loan, the loan number of the specific loan (how many loans the client has now taken out), the amount, interest rate, term days, the date when the loan repayment was due and the date the loan was actually repaid."
      ]
    },
    {
      "cell_type": "markdown",
      "metadata": {
        "id": "kCx0HQcZmEt0"
      },
      "source": [
        "---"
      ]
    },
    {
      "cell_type": "markdown",
      "metadata": {
        "id": "g3w_ku9amEt1"
      },
      "source": [
        "### Question 1"
      ]
    },
    {
      "cell_type": "markdown",
      "metadata": {
        "id": "mRVLq00smEt2"
      },
      "source": [
        "Convert `appilcationDate`, `repaymentDueDate` and `repaymentPaidDate` in the dataframes to datetimes. "
      ]
    },
    {
      "cell_type": "code",
      "execution_count": null,
      "metadata": {
        "id": "H2XMvnxtmEt2"
      },
      "outputs": [],
      "source": [
        "df[[\"appilcationDate\",\"repaymentDueDate\",\"repaymentPaidDate\"]] = df[[\"appilcationDate\",\"repaymentDueDate\",\"repaymentPaidDate\"]].apply(pd.to_datetime)"
      ]
    },
    {
      "cell_type": "code",
      "execution_count": null,
      "metadata": {
        "colab": {
          "base_uri": "https://localhost:8080/"
        },
        "id": "Hi7Py4whmEt3",
        "outputId": "54b8d650-45c1-4176-8039-3b4fd8804547"
      },
      "outputs": [
        {
          "output_type": "stream",
          "name": "stdout",
          "text": [
            "<class 'pandas.core.frame.DataFrame'>\n",
            "RangeIndex: 1000 entries, 0 to 999\n",
            "Data columns (total 9 columns):\n",
            " #   Column             Non-Null Count  Dtype         \n",
            "---  ------             --------------  -----         \n",
            " 0   customerID         1000 non-null   object        \n",
            " 1   loanId             1000 non-null   object        \n",
            " 2   appilcationDate    1000 non-null   datetime64[ns]\n",
            " 3   LoanNumber         1000 non-null   int64         \n",
            " 4   LoanAmount         1000 non-null   float64       \n",
            " 5   InterestRate       1000 non-null   float64       \n",
            " 6   TermDays           1000 non-null   int64         \n",
            " 7   repaymentDueDate   1000 non-null   datetime64[ns]\n",
            " 8   repaymentPaidDate  1000 non-null   datetime64[ns]\n",
            "dtypes: datetime64[ns](3), float64(2), int64(2), object(2)\n",
            "memory usage: 70.4+ KB\n"
          ]
        }
      ],
      "source": [
        "df.info()"
      ]
    },
    {
      "cell_type": "markdown",
      "metadata": {
        "id": "IFpDlzVjmEt4"
      },
      "source": [
        "Now that the dates have been converted, How many `unique`data types are contained within the application dataset?"
      ]
    },
    {
      "cell_type": "code",
      "execution_count": null,
      "metadata": {
        "colab": {
          "base_uri": "https://localhost:8080/"
        },
        "id": "uoXjWMn0mEt4",
        "outputId": "22dc5687-3490-487d-ab93-a34933414f03"
      },
      "outputs": [
        {
          "output_type": "execute_result",
          "data": {
            "text/plain": [
              "4"
            ]
          },
          "metadata": {},
          "execution_count": 7
        }
      ],
      "source": [
        "df.dtypes.nunique()"
      ]
    },
    {
      "cell_type": "markdown",
      "metadata": {
        "id": "_09VhgIJmEt6"
      },
      "source": [
        "### Question 2"
      ]
    },
    {
      "cell_type": "markdown",
      "metadata": {
        "id": "T6i9OWKGmEt6"
      },
      "source": [
        "Please calculate the `average` loan amount, interest rate and termdays for all the loans in the dataset? `Round` all number to two decimal places."
      ]
    },
    {
      "cell_type": "code",
      "execution_count": null,
      "metadata": {
        "id": "dtju_pfGmEt7"
      },
      "outputs": [],
      "source": [
        "loan_mean = df['LoanAmount'].mean()"
      ]
    },
    {
      "cell_type": "markdown",
      "source": [
        ""
      ],
      "metadata": {
        "id": "trtVHW7-NiJ3"
      }
    },
    {
      "cell_type": "code",
      "execution_count": null,
      "metadata": {
        "colab": {
          "base_uri": "https://localhost:8080/"
        },
        "id": "V-iTj3_ZmEt7",
        "outputId": "894d30d8-e1f2-4aa4-c8a5-af60a0acd989"
      },
      "outputs": [
        {
          "output_type": "execute_result",
          "data": {
            "text/plain": [
              "13828.08"
            ]
          },
          "metadata": {},
          "execution_count": 9
        }
      ],
      "source": [
        "loan_mean = round(loan_mean,2)\n",
        "loan_mean"
      ]
    },
    {
      "cell_type": "code",
      "source": [
        "# 2b avg interest rate\n",
        "round(df['InterestRate'].mean(), 2)"
      ],
      "metadata": {
        "colab": {
          "base_uri": "https://localhost:8080/"
        },
        "id": "YcZ_CdlJ-zv4",
        "outputId": "30df3ab8-c53f-4359-d8eb-6a474362bf49"
      },
      "execution_count": null,
      "outputs": [
        {
          "output_type": "execute_result",
          "data": {
            "text/plain": [
              "23.06"
            ]
          },
          "metadata": {},
          "execution_count": 10
        }
      ]
    },
    {
      "cell_type": "code",
      "execution_count": null,
      "metadata": {
        "colab": {
          "base_uri": "https://localhost:8080/"
        },
        "id": "bOtzUPXemEt9",
        "outputId": "07fc319b-b430-45db-ae7f-0ad2d0f20d20"
      },
      "outputs": [
        {
          "output_type": "execute_result",
          "data": {
            "text/plain": [
              "42.08"
            ]
          },
          "metadata": {},
          "execution_count": 11
        }
      ],
      "source": [
        "# 2c avg term days \n",
        "round(df['TermDays'].mean(), 2)"
      ]
    },
    {
      "cell_type": "markdown",
      "metadata": {
        "id": "NU5MWG8xmEt-"
      },
      "source": [
        "---"
      ]
    },
    {
      "cell_type": "markdown",
      "metadata": {
        "id": "HHEKs-IUmEt-"
      },
      "source": [
        "### Question 3"
      ]
    },
    {
      "cell_type": "markdown",
      "metadata": {
        "id": "VSPqkdKHmEt_"
      },
      "source": [
        "Please create a new column called `dateDifference` which needs to contains the number of days between when the loan was repaid and when it was due to be repaid. \n",
        "\n",
        "Count the number of loans that were paid more than 3 days late. This can be done by first creating a dataframe only containing the loans that were paid more than 3 days late. "
      ]
    },
    {
      "cell_type": "markdown",
      "metadata": {
        "id": "YgswnrlsmEuA"
      },
      "source": [
        "---"
      ]
    },
    {
      "cell_type": "code",
      "execution_count": null,
      "metadata": {
        "id": "0RLoC8UqmEuA",
        "colab": {
          "base_uri": "https://localhost:8080/"
        },
        "outputId": "26b043bb-697f-4745-e43f-a6d0e9ebaa5e"
      },
      "outputs": [
        {
          "output_type": "execute_result",
          "data": {
            "text/plain": [
              "555"
            ]
          },
          "metadata": {},
          "execution_count": 12
        }
      ],
      "source": [
        "# number of loans more than 3 days late \t\n",
        "df['dataDifference'] = (df['repaymentDueDate']-df['repaymentPaidDate']).dt.days\n",
        "\n",
        "df = df[df['dataDifference']>3]\n",
        "df['dataDifference'].count()"
      ]
    },
    {
      "cell_type": "markdown",
      "metadata": {
        "id": "it6CC6acmEuB"
      },
      "source": [
        "### Question 4"
      ]
    },
    {
      "cell_type": "markdown",
      "metadata": {
        "id": "9BORhQUwmEuC"
      },
      "source": [
        "Please group the dataset by `TermDays` and calculate the `mean` loan amount and the `standard deviation` of loan amount within each term.\n",
        "\n",
        "What is the mean loan amount in 30-day loans and what is the standard deviation of  loan amount in 90-day loans? Please give your answers to the nearest two decimal places. "
      ]
    },
    {
      "cell_type": "code",
      "execution_count": null,
      "metadata": {
        "id": "eWlp36Z3mEuC",
        "outputId": "6cf70b60-0cd5-4016-ddc1-ab945cd725d3",
        "colab": {
          "base_uri": "https://localhost:8080/"
        }
      },
      "outputs": [
        {
          "output_type": "execute_result",
          "data": {
            "text/plain": [
              "<pandas.core.groupby.generic.DataFrameGroupBy object at 0x7fd6d3d8a0d0>"
            ]
          },
          "metadata": {},
          "execution_count": 13
        }
      ],
      "source": [
        "#grouping the dataset by TermDays\n",
        "df.groupby('TermDays')"
      ]
    },
    {
      "cell_type": "code",
      "source": [
        "by_TermDays = df.groupby(\"TermDays\")"
      ],
      "metadata": {
        "id": "4mnvryg4REOq"
      },
      "execution_count": null,
      "outputs": []
    },
    {
      "cell_type": "code",
      "source": [
        "#calculating the mean loan amount within each term\n",
        "df = pd.read_csv('application_data.csv')\n",
        "df\n",
        "df.head()\n",
        "df.groupby('TermDays')\n",
        "by_TermDays = df.groupby(\"TermDays\")\n",
        "by_TermDays['LoanAmount'].mean()"
      ],
      "metadata": {
        "colab": {
          "base_uri": "https://localhost:8080/"
        },
        "id": "hBi_5STNKSYU",
        "outputId": "b92349bf-574f-43a9-ce1a-42d9404c6663"
      },
      "execution_count": null,
      "outputs": [
        {
          "output_type": "execute_result",
          "data": {
            "text/plain": [
              "TermDays\n",
              "15      1274.088050\n",
              "30      7941.964286\n",
              "45     10706.250000\n",
              "60     25710.526316\n",
              "90     37672.727273\n",
              "120    45055.555556\n",
              "180    80988.095238\n",
              "Name: LoanAmount, dtype: float64"
            ]
          },
          "metadata": {},
          "execution_count": 14
        }
      ]
    },
    {
      "cell_type": "code",
      "source": [
        "#the mean loan amount in 30-days loan\n",
        "from pandas.core.groupby import groupby\n",
        "term_loan = round(df[df['TermDays']==30].groupby('TermDays')['LoanAmount'].mean(), 2)\n",
        "term_loan.head()"
      ],
      "metadata": {
        "colab": {
          "base_uri": "https://localhost:8080/"
        },
        "id": "GgFgszPH6cnn",
        "outputId": "482527b4-4a6f-4ced-c497-897904bec084"
      },
      "execution_count": null,
      "outputs": [
        {
          "output_type": "execute_result",
          "data": {
            "text/plain": [
              "TermDays\n",
              "30    7941.96\n",
              "Name: LoanAmount, dtype: float64"
            ]
          },
          "metadata": {},
          "execution_count": 15
        }
      ]
    },
    {
      "cell_type": "code",
      "source": [
        "#calculating the Standard deviation within each term\n",
        "by_TermDays['LoanAmount'].std()\n"
      ],
      "metadata": {
        "colab": {
          "base_uri": "https://localhost:8080/"
        },
        "id": "bde_F7QYZRyl",
        "outputId": "00cb908f-d465-4a14-c896-1331feb25b31"
      },
      "execution_count": null,
      "outputs": [
        {
          "output_type": "execute_result",
          "data": {
            "text/plain": [
              "TermDays\n",
              "15      2885.967406\n",
              "30      1606.039495\n",
              "45      2346.143820\n",
              "60     11559.646185\n",
              "90     18050.140602\n",
              "120    22192.966854\n",
              "180    34612.222587\n",
              "Name: LoanAmount, dtype: float64"
            ]
          },
          "metadata": {},
          "execution_count": 16
        }
      ]
    },
    {
      "cell_type": "code",
      "source": [
        "#standard deviation loan amount in 90days\n",
        "stan_dev_loanAmount = round(df[df['TermDays']==90].groupby('TermDays')['LoanAmount'].std(), 2)\n",
        "stan_dev_loanAmount.head()"
      ],
      "metadata": {
        "colab": {
          "base_uri": "https://localhost:8080/"
        },
        "id": "YqeW8REIGUGr",
        "outputId": "82a9deaa-429f-478b-f4c1-72e54c05c19e"
      },
      "execution_count": null,
      "outputs": [
        {
          "output_type": "execute_result",
          "data": {
            "text/plain": [
              "TermDays\n",
              "90    18050.14\n",
              "Name: LoanAmount, dtype: float64"
            ]
          },
          "metadata": {},
          "execution_count": 17
        }
      ]
    },
    {
      "cell_type": "markdown",
      "metadata": {
        "id": "NCLVLrlZmEuD"
      },
      "source": [
        "--- "
      ]
    },
    {
      "cell_type": "markdown",
      "metadata": {
        "id": "v01i8dMUmEuD"
      },
      "source": [
        "### Question 5"
      ]
    },
    {
      "cell_type": "markdown",
      "metadata": {
        "id": "V2u1g_2FmEuE"
      },
      "source": [
        "`Late` loans are defined as loans that were paid `more than 3 days` after their due date. Please find the average number of days that these loans were paid beyond their due date for each `week of the year`. This will require you to break all `appilcationDate's` down into the week of the year they were made and then perform a group by. \n",
        "\n",
        "What is the average number of days that `late` loans applied for in the second week of the year were paid late? Please sumbit your answer rounded to two decimal places. "
      ]
    },
    {
      "cell_type": "code",
      "execution_count": null,
      "metadata": {
        "colab": {
          "base_uri": "https://localhost:8080/"
        },
        "id": "sUQ59Jc1erAi",
        "outputId": "d7b73a94-6896-4121-b27b-8c0cc517a756"
      },
      "outputs": [
        {
          "output_type": "stream",
          "name": "stdout",
          "text": [
            "<class 'pandas.core.frame.DataFrame'>\n",
            "RangeIndex: 1000 entries, 0 to 999\n",
            "Data columns (total 9 columns):\n",
            " #   Column             Non-Null Count  Dtype         \n",
            "---  ------             --------------  -----         \n",
            " 0   customerID         1000 non-null   object        \n",
            " 1   loanId             1000 non-null   object        \n",
            " 2   appilcationDate    1000 non-null   datetime64[ns]\n",
            " 3   LoanNumber         1000 non-null   int64         \n",
            " 4   LoanAmount         1000 non-null   float64       \n",
            " 5   InterestRate       1000 non-null   float64       \n",
            " 6   TermDays           1000 non-null   int64         \n",
            " 7   repaymentDueDate   1000 non-null   datetime64[ns]\n",
            " 8   repaymentPaidDate  1000 non-null   datetime64[ns]\n",
            "dtypes: datetime64[ns](3), float64(2), int64(2), object(2)\n",
            "memory usage: 70.4+ KB\n"
          ]
        }
      ],
      "source": [
        "# week of year and average number of late days\n",
        "df[[\"appilcationDate\",\"repaymentDueDate\",\"repaymentPaidDate\"]] = df[[\"appilcationDate\",\"repaymentDueDate\",\"repaymentPaidDate\"]].apply(pd.to_datetime)\n",
        "df.info()"
      ]
    },
    {
      "cell_type": "code",
      "source": [
        "df['wk_no_of_yr'] = df['appilcationDate'].dt.isocalendar().week"
      ],
      "metadata": {
        "id": "axrakij4fQ4R"
      },
      "execution_count": null,
      "outputs": []
    },
    {
      "cell_type": "code",
      "source": [
        "df = df.groupby(['appilcationDate']).agg({'wk_no_of_yr':['mean']}).round(2)"
      ],
      "metadata": {
        "id": "_TZ3D5qmh4oU"
      },
      "execution_count": null,
      "outputs": []
    },
    {
      "cell_type": "code",
      "source": [
        "df"
      ],
      "metadata": {
        "colab": {
          "base_uri": "https://localhost:8080/",
          "height": 486
        },
        "id": "rYAD8StFjfIw",
        "outputId": "7e2326da-b815-4089-ca14-c1c0ca8c8912"
      },
      "execution_count": null,
      "outputs": [
        {
          "output_type": "execute_result",
          "data": {
            "text/plain": [
              "                wk_no_of_yr\n",
              "                       mean\n",
              "appilcationDate            \n",
              "2018-01-01              1.0\n",
              "2018-01-02              1.0\n",
              "2018-01-03              1.0\n",
              "2018-01-04              1.0\n",
              "2018-01-05              1.0\n",
              "...                     ...\n",
              "2019-01-12              2.0\n",
              "2019-01-13              2.0\n",
              "2019-01-14              3.0\n",
              "2019-01-15              3.0\n",
              "2019-01-16              3.0\n",
              "\n",
              "[254 rows x 1 columns]"
            ],
            "text/html": [
              "\n",
              "  <div id=\"df-91d75965-5848-4fd4-83b4-559e9d942c6a\">\n",
              "    <div class=\"colab-df-container\">\n",
              "      <div>\n",
              "<style scoped>\n",
              "    .dataframe tbody tr th:only-of-type {\n",
              "        vertical-align: middle;\n",
              "    }\n",
              "\n",
              "    .dataframe tbody tr th {\n",
              "        vertical-align: top;\n",
              "    }\n",
              "\n",
              "    .dataframe thead tr th {\n",
              "        text-align: left;\n",
              "    }\n",
              "\n",
              "    .dataframe thead tr:last-of-type th {\n",
              "        text-align: right;\n",
              "    }\n",
              "</style>\n",
              "<table border=\"1\" class=\"dataframe\">\n",
              "  <thead>\n",
              "    <tr>\n",
              "      <th></th>\n",
              "      <th>wk_no_of_yr</th>\n",
              "    </tr>\n",
              "    <tr>\n",
              "      <th></th>\n",
              "      <th>mean</th>\n",
              "    </tr>\n",
              "    <tr>\n",
              "      <th>appilcationDate</th>\n",
              "      <th></th>\n",
              "    </tr>\n",
              "  </thead>\n",
              "  <tbody>\n",
              "    <tr>\n",
              "      <th>2018-01-01</th>\n",
              "      <td>1.0</td>\n",
              "    </tr>\n",
              "    <tr>\n",
              "      <th>2018-01-02</th>\n",
              "      <td>1.0</td>\n",
              "    </tr>\n",
              "    <tr>\n",
              "      <th>2018-01-03</th>\n",
              "      <td>1.0</td>\n",
              "    </tr>\n",
              "    <tr>\n",
              "      <th>2018-01-04</th>\n",
              "      <td>1.0</td>\n",
              "    </tr>\n",
              "    <tr>\n",
              "      <th>2018-01-05</th>\n",
              "      <td>1.0</td>\n",
              "    </tr>\n",
              "    <tr>\n",
              "      <th>...</th>\n",
              "      <td>...</td>\n",
              "    </tr>\n",
              "    <tr>\n",
              "      <th>2019-01-12</th>\n",
              "      <td>2.0</td>\n",
              "    </tr>\n",
              "    <tr>\n",
              "      <th>2019-01-13</th>\n",
              "      <td>2.0</td>\n",
              "    </tr>\n",
              "    <tr>\n",
              "      <th>2019-01-14</th>\n",
              "      <td>3.0</td>\n",
              "    </tr>\n",
              "    <tr>\n",
              "      <th>2019-01-15</th>\n",
              "      <td>3.0</td>\n",
              "    </tr>\n",
              "    <tr>\n",
              "      <th>2019-01-16</th>\n",
              "      <td>3.0</td>\n",
              "    </tr>\n",
              "  </tbody>\n",
              "</table>\n",
              "<p>254 rows × 1 columns</p>\n",
              "</div>\n",
              "      <button class=\"colab-df-convert\" onclick=\"convertToInteractive('df-91d75965-5848-4fd4-83b4-559e9d942c6a')\"\n",
              "              title=\"Convert this dataframe to an interactive table.\"\n",
              "              style=\"display:none;\">\n",
              "        \n",
              "  <svg xmlns=\"http://www.w3.org/2000/svg\" height=\"24px\"viewBox=\"0 0 24 24\"\n",
              "       width=\"24px\">\n",
              "    <path d=\"M0 0h24v24H0V0z\" fill=\"none\"/>\n",
              "    <path d=\"M18.56 5.44l.94 2.06.94-2.06 2.06-.94-2.06-.94-.94-2.06-.94 2.06-2.06.94zm-11 1L8.5 8.5l.94-2.06 2.06-.94-2.06-.94L8.5 2.5l-.94 2.06-2.06.94zm10 10l.94 2.06.94-2.06 2.06-.94-2.06-.94-.94-2.06-.94 2.06-2.06.94z\"/><path d=\"M17.41 7.96l-1.37-1.37c-.4-.4-.92-.59-1.43-.59-.52 0-1.04.2-1.43.59L10.3 9.45l-7.72 7.72c-.78.78-.78 2.05 0 2.83L4 21.41c.39.39.9.59 1.41.59.51 0 1.02-.2 1.41-.59l7.78-7.78 2.81-2.81c.8-.78.8-2.07 0-2.86zM5.41 20L4 18.59l7.72-7.72 1.47 1.35L5.41 20z\"/>\n",
              "  </svg>\n",
              "      </button>\n",
              "      \n",
              "  <style>\n",
              "    .colab-df-container {\n",
              "      display:flex;\n",
              "      flex-wrap:wrap;\n",
              "      gap: 12px;\n",
              "    }\n",
              "\n",
              "    .colab-df-convert {\n",
              "      background-color: #E8F0FE;\n",
              "      border: none;\n",
              "      border-radius: 50%;\n",
              "      cursor: pointer;\n",
              "      display: none;\n",
              "      fill: #1967D2;\n",
              "      height: 32px;\n",
              "      padding: 0 0 0 0;\n",
              "      width: 32px;\n",
              "    }\n",
              "\n",
              "    .colab-df-convert:hover {\n",
              "      background-color: #E2EBFA;\n",
              "      box-shadow: 0px 1px 2px rgba(60, 64, 67, 0.3), 0px 1px 3px 1px rgba(60, 64, 67, 0.15);\n",
              "      fill: #174EA6;\n",
              "    }\n",
              "\n",
              "    [theme=dark] .colab-df-convert {\n",
              "      background-color: #3B4455;\n",
              "      fill: #D2E3FC;\n",
              "    }\n",
              "\n",
              "    [theme=dark] .colab-df-convert:hover {\n",
              "      background-color: #434B5C;\n",
              "      box-shadow: 0px 1px 3px 1px rgba(0, 0, 0, 0.15);\n",
              "      filter: drop-shadow(0px 1px 2px rgba(0, 0, 0, 0.3));\n",
              "      fill: #FFFFFF;\n",
              "    }\n",
              "  </style>\n",
              "\n",
              "      <script>\n",
              "        const buttonEl =\n",
              "          document.querySelector('#df-91d75965-5848-4fd4-83b4-559e9d942c6a button.colab-df-convert');\n",
              "        buttonEl.style.display =\n",
              "          google.colab.kernel.accessAllowed ? 'block' : 'none';\n",
              "\n",
              "        async function convertToInteractive(key) {\n",
              "          const element = document.querySelector('#df-91d75965-5848-4fd4-83b4-559e9d942c6a');\n",
              "          const dataTable =\n",
              "            await google.colab.kernel.invokeFunction('convertToInteractive',\n",
              "                                                     [key], {});\n",
              "          if (!dataTable) return;\n",
              "\n",
              "          const docLinkHtml = 'Like what you see? Visit the ' +\n",
              "            '<a target=\"_blank\" href=https://colab.research.google.com/notebooks/data_table.ipynb>data table notebook</a>'\n",
              "            + ' to learn more about interactive tables.';\n",
              "          element.innerHTML = '';\n",
              "          dataTable['output_type'] = 'display_data';\n",
              "          await google.colab.output.renderOutput(dataTable, element);\n",
              "          const docLink = document.createElement('div');\n",
              "          docLink.innerHTML = docLinkHtml;\n",
              "          element.appendChild(docLink);\n",
              "        }\n",
              "      </script>\n",
              "    </div>\n",
              "  </div>\n",
              "  "
            ]
          },
          "metadata": {},
          "execution_count": 21
        }
      ]
    },
    {
      "cell_type": "code",
      "source": [
        "round(df.mean(), 2)"
      ],
      "metadata": {
        "colab": {
          "base_uri": "https://localhost:8080/"
        },
        "id": "uhNekgv8kMG4",
        "outputId": "e68ae41c-72ed-4776-92bd-1a1e8fd704e6"
      },
      "execution_count": null,
      "outputs": [
        {
          "output_type": "execute_result",
          "data": {
            "text/plain": [
              "wk_no_of_yr  mean    23.07\n",
              "dtype: float64"
            ]
          },
          "metadata": {},
          "execution_count": 23
        }
      ]
    },
    {
      "cell_type": "markdown",
      "metadata": {
        "id": "932iepMMmEuF"
      },
      "source": [
        "---"
      ]
    },
    {
      "cell_type": "markdown",
      "metadata": {
        "id": "DWS6bzYMmEuG"
      },
      "source": [
        "### The End"
      ]
    },
    {
      "cell_type": "markdown",
      "metadata": {
        "id": "q_n-YFBemEuG"
      },
      "source": [
        "Thank you for completing the challenge. Please make sure you have submitted all of your answers to the arise Challenge Answers form. "
      ]
    },
    {
      "cell_type": "markdown",
      "metadata": {
        "id": "fg7BP2ZbmEuG"
      },
      "source": [
        "### Notebook\n",
        "Please save you notebook as `yourEmail.ipynb` where you replace `yourEmail` with your actual email address and attach it to the iodeajo@gmail.com. "
      ]
    }
  ],
  "metadata": {
    "kernelspec": {
      "display_name": "Python 3 (ipykernel)",
      "language": "python",
      "name": "python3"
    },
    "language_info": {
      "codemirror_mode": {
        "name": "ipython",
        "version": 3
      },
      "file_extension": ".py",
      "mimetype": "text/x-python",
      "name": "python",
      "nbconvert_exporter": "python",
      "pygments_lexer": "ipython3",
      "version": "3.9.7"
    },
    "colab": {
      "name": "arise_application_Idowu.ipynb",
      "provenance": [],
      "include_colab_link": true
    }
  },
  "nbformat": 4,
  "nbformat_minor": 0
}